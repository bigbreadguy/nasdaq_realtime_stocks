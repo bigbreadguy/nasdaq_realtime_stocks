{
 "cells": [
  {
   "cell_type": "code",
   "execution_count": 42,
   "metadata": {},
   "outputs": [],
   "source": [
    "import pandas as pd\n",
    "from alpha_vantage.timeseries import TimeSeries\n",
    "import time\n",
    "import mplfinance as mpf"
   ]
  },
  {
   "cell_type": "code",
   "execution_count": 43,
   "metadata": {},
   "outputs": [],
   "source": [
    "api_key = \"QOA9MVY36JYUOL3K\""
   ]
  },
  {
   "cell_type": "code",
   "execution_count": 44,
   "metadata": {},
   "outputs": [],
   "source": [
    "ts = TimeSeries(key=api_key, output_format='pandas')\n",
    "data, meta_data = ts.get_intraday(symbol='BIGC', interval = '1min', outputsize = 'compact')\n",
    "#data.head()"
   ]
  },
  {
   "cell_type": "code",
   "execution_count": 45,
   "metadata": {},
   "outputs": [],
   "source": [
    "ts = TimeSeries(key=api_key, output_format='pandas')\n",
    "data, meta_data = ts.get_intraday(symbol=\"NNOX\", interval=\"60min\", outputsize=\"full\")"
   ]
  },
  {
   "cell_type": "code",
   "execution_count": 46,
   "metadata": {},
   "outputs": [],
   "source": [
    "columns = {\"1. open\":\"Open\", \"2. high\":\"High\", \"3. low\":\"Low\", \"4. close\":\"Close\", \"5. volume\":\"Volume\"}"
   ]
  },
  {
   "cell_type": "code",
   "execution_count": 47,
   "metadata": {},
   "outputs": [
    {
     "data": {
      "text/html": [
       "<div>\n",
       "<style scoped>\n",
       "    .dataframe tbody tr th:only-of-type {\n",
       "        vertical-align: middle;\n",
       "    }\n",
       "\n",
       "    .dataframe tbody tr th {\n",
       "        vertical-align: top;\n",
       "    }\n",
       "\n",
       "    .dataframe thead th {\n",
       "        text-align: right;\n",
       "    }\n",
       "</style>\n",
       "<table border=\"1\" class=\"dataframe\">\n",
       "  <thead>\n",
       "    <tr style=\"text-align: right;\">\n",
       "      <th></th>\n",
       "      <th>Open</th>\n",
       "      <th>High</th>\n",
       "      <th>Low</th>\n",
       "      <th>Close</th>\n",
       "      <th>Volume</th>\n",
       "    </tr>\n",
       "    <tr>\n",
       "      <th>Date</th>\n",
       "      <th></th>\n",
       "      <th></th>\n",
       "      <th></th>\n",
       "      <th></th>\n",
       "      <th></th>\n",
       "    </tr>\n",
       "  </thead>\n",
       "  <tbody>\n",
       "    <tr>\n",
       "      <th>2020-08-21 12:00:00</th>\n",
       "      <td>20.34</td>\n",
       "      <td>22.49</td>\n",
       "      <td>20.255</td>\n",
       "      <td>21.68</td>\n",
       "      <td>5358541.0</td>\n",
       "    </tr>\n",
       "  </tbody>\n",
       "</table>\n",
       "</div>"
      ],
      "text/plain": [
       "                      Open   High     Low  Close     Volume\n",
       "Date                                                       \n",
       "2020-08-21 12:00:00  20.34  22.49  20.255  21.68  5358541.0"
      ]
     },
     "execution_count": 47,
     "metadata": {},
     "output_type": "execute_result"
    }
   ],
   "source": [
    "data.index.names = [\"Date\"]\n",
    "data.rename(columns=columns, inplace=True)\n",
    "data.tail(1)"
   ]
  },
  {
   "cell_type": "code",
   "execution_count": 48,
   "metadata": {},
   "outputs": [
    {
     "data": {
      "text/plain": [
       "284"
      ]
     },
     "execution_count": 48,
     "metadata": {},
     "output_type": "execute_result"
    }
   ],
   "source": [
    "len(data)"
   ]
  },
  {
   "cell_type": "code",
   "execution_count": 49,
   "metadata": {},
   "outputs": [
    {
     "data": {
      "text/plain": [
       "20.34"
      ]
     },
     "execution_count": 49,
     "metadata": {},
     "output_type": "execute_result"
    }
   ],
   "source": [
    "data.iloc[283,:][0]"
   ]
  },
  {
   "cell_type": "code",
   "execution_count": 50,
   "metadata": {},
   "outputs": [
    {
     "data": {
      "text/plain": [
       "30.4999"
      ]
     },
     "execution_count": 50,
     "metadata": {},
     "output_type": "execute_result"
    }
   ],
   "source": [
    "data[data[\"High\"] >= 20.255 * (1.5)].iloc[-1, 1]"
   ]
  },
  {
   "cell_type": "code",
   "execution_count": 68,
   "metadata": {},
   "outputs": [
    {
     "name": "stdout",
     "output_type": "stream",
     "text": [
      "2020-09-11\n"
     ]
    }
   ],
   "source": [
    "import numpy as np\n",
    "exit_date = np.datetime64(data.index[-1]).astype('datetime64[D]') + np.timedelta64(21, \"D\")\n",
    "print(exit_date)"
   ]
  },
  {
   "cell_type": "code",
   "execution_count": 58,
   "metadata": {},
   "outputs": [
    {
     "data": {
      "text/plain": [
       "Timestamp('2020-08-21 12:00:00')"
      ]
     },
     "execution_count": 58,
     "metadata": {},
     "output_type": "execute_result"
    }
   ],
   "source": [
    "data.index[-1]"
   ]
  },
  {
   "cell_type": "code",
   "execution_count": 70,
   "metadata": {},
   "outputs": [],
   "source": [
    "exit_date_tomorrow = exit_date + np.timedelta64(1, \"D\")"
   ]
  },
  {
   "cell_type": "code",
   "execution_count": 73,
   "metadata": {},
   "outputs": [],
   "source": [
    "tmp = data[data.index >= exit_date]\n",
    "result = tmp[tmp.index < exit_date_tomorrow]"
   ]
  },
  {
   "cell_type": "code",
   "execution_count": 74,
   "metadata": {},
   "outputs": [
    {
     "name": "stdout",
     "output_type": "stream",
     "text": [
      "                        Open     High      Low    Close     Volume\n",
      "Date                                                              \n",
      "2020-09-11 20:00:00  65.8000  66.8000  65.8000  65.8000    25019.0\n",
      "2020-09-11 19:00:00  65.8500  66.1100  65.3000  65.3000    11174.0\n",
      "2020-09-11 18:00:00  66.7400  66.9399  65.0600  65.4000    41388.0\n",
      "2020-09-11 17:00:00  64.3800  68.3500  64.3800  66.7900   161916.0\n",
      "2020-09-11 16:00:00  59.6637  66.6700  59.3201  64.2000  2205699.0\n",
      "2020-09-11 15:00:00  56.3609  62.1300  56.0927  59.6200  1279476.0\n",
      "2020-09-11 14:00:00  56.4000  57.0000  55.1200  56.4000   455912.0\n",
      "2020-09-11 13:00:00  55.1500  57.4000  55.1300  56.3400   814762.0\n",
      "2020-09-11 12:00:00  57.8000  59.2000  54.1100  55.0500  1813158.0\n",
      "2020-09-11 11:00:00  51.8000  58.9400  51.4000  57.8996  1700533.0\n",
      "2020-09-11 10:00:00  50.0000  53.4300  48.1800  51.7000   839726.0\n",
      "2020-09-11 09:00:00  51.4299  52.0000  49.5100  49.9000    51694.0\n",
      "2020-09-11 08:00:00  50.5900  52.0000  49.6800  50.0000    26702.0\n",
      "2020-09-11 07:00:00  51.0700  51.0700  49.9700  50.4300     4884.0\n",
      "2020-09-11 06:00:00  51.8000  51.8000  51.1500  51.7000     1510.0\n",
      "2020-09-11 05:00:00  49.5000  52.0000  49.5000  52.0000     4384.0\n"
     ]
    }
   ],
   "source": [
    "print(result)"
   ]
  },
  {
   "cell_type": "code",
   "execution_count": 57,
   "metadata": {},
   "outputs": [
    {
     "name": "stdout",
     "output_type": "stream",
     "text": [
      "DatetimeIndex(['2020-09-18 20:00:00', '2020-09-18 19:00:00',\n",
      "               '2020-09-18 18:00:00', '2020-09-18 17:00:00',\n",
      "               '2020-09-18 16:00:00', '2020-09-18 15:00:00',\n",
      "               '2020-09-18 14:00:00', '2020-09-18 13:00:00',\n",
      "               '2020-09-18 12:00:00', '2020-09-18 11:00:00',\n",
      "               ...\n",
      "               '2020-08-24 05:00:00', '2020-08-21 20:00:00',\n",
      "               '2020-08-21 19:00:00', '2020-08-21 18:00:00',\n",
      "               '2020-08-21 17:00:00', '2020-08-21 16:00:00',\n",
      "               '2020-08-21 15:00:00', '2020-08-21 14:00:00',\n",
      "               '2020-08-21 13:00:00', '2020-08-21 12:00:00'],\n",
      "              dtype='datetime64[ns]', name='Date', length=284, freq=None)\n"
     ]
    }
   ],
   "source": [
    "print(data.index)"
   ]
  },
  {
   "cell_type": "code",
   "execution_count": null,
   "metadata": {},
   "outputs": [],
   "source": [
    "print(data.index.values[0])\n",
    "print(type(data.index.values[0]))"
   ]
  },
  {
   "cell_type": "code",
   "execution_count": null,
   "metadata": {},
   "outputs": [],
   "source": [
    "from datetime import datetime\n",
    "import pytz\n",
    "tzny = pytz.timezone(\"America/New_York\")\n",
    "ny_raw = str(datetime.now(tzny))\n",
    "ny_now = datetime.strptime(ny_raw, '%Y-%m-%d %H:%M:%S.%f-04:00')\n",
    "print(ny_raw)\n",
    "#print(str(ny_raw))\n",
    "print(ny_now)"
   ]
  },
  {
   "cell_type": "code",
   "execution_count": null,
   "metadata": {},
   "outputs": [],
   "source": [
    "import numpy as np\n",
    "np_ny_now = np.datetime64(ny_now)\n",
    "np_ny_date = np_ny_now.astype('datetime64[D]')\n",
    "print(np_ny_now)\n",
    "print(np_ny_date)"
   ]
  },
  {
   "cell_type": "code",
   "execution_count": null,
   "metadata": {},
   "outputs": [],
   "source": [
    "print(np_ny_now.astype('datetime64[D]')==np_ny_date.astype('datetime64[D]'))"
   ]
  },
  {
   "cell_type": "code",
   "execution_count": null,
   "metadata": {},
   "outputs": [],
   "source": [
    "ny_m = np_ny_now.astype(\"datetime64[m]\")\n",
    "print(ny_m)"
   ]
  },
  {
   "cell_type": "code",
   "execution_count": null,
   "metadata": {},
   "outputs": [],
   "source": [
    "ny_raw2 = str(datetime.now(tzny))\n",
    "ny_now2 = datetime.strptime(ny_raw2, '%Y-%m-%d %H:%M:%S.%f-04:00')\n",
    "np_ny_now2 = np.datetime64(ny_now2)\n",
    "print(np_ny_now2)"
   ]
  },
  {
   "cell_type": "code",
   "execution_count": null,
   "metadata": {},
   "outputs": [],
   "source": [
    "print(np_ny_now2 >= ny_m)"
   ]
  },
  {
   "cell_type": "code",
   "execution_count": null,
   "metadata": {},
   "outputs": [],
   "source": [
    "ny_8 = np_ny_date + np.timedelta64(8, 'h')\n",
    "print(ny_8)"
   ]
  },
  {
   "cell_type": "code",
   "execution_count": null,
   "metadata": {},
   "outputs": [],
   "source": [
    "print(np_ny_now2 >= ny_8)"
   ]
  },
  {
   "cell_type": "code",
   "execution_count": null,
   "metadata": {},
   "outputs": [],
   "source": [
    "ny_8 = np_ny_date - np.timedelta64(1, 'D') + np.timedelta64(8, 'h')\n",
    "print(ny_8)"
   ]
  },
  {
   "cell_type": "code",
   "execution_count": null,
   "metadata": {},
   "outputs": [],
   "source": [
    "df = data[data.index.values >= ny_8]"
   ]
  },
  {
   "cell_type": "code",
   "execution_count": null,
   "metadata": {},
   "outputs": [],
   "source": [
    "df.tail()"
   ]
  },
  {
   "cell_type": "code",
   "execution_count": null,
   "metadata": {},
   "outputs": [],
   "source": [
    "ny_open = np_ny_date + np.timedelta64(9, 'h') + np.timedelta64(30, 'm')\n",
    "print(ny_open)"
   ]
  },
  {
   "cell_type": "code",
   "execution_count": null,
   "metadata": {},
   "outputs": [],
   "source": [
    "print(np_ny_now2 >= ny_open)"
   ]
  },
  {
   "cell_type": "code",
   "execution_count": null,
   "metadata": {},
   "outputs": [],
   "source": [
    "mc = mpf.make_marketcolors(up='orangered',down='turquoise',\n",
    "                           edge='inherit',\n",
    "                           wick='grey',\n",
    "                           volume='in',\n",
    "                           ohlc='i')\n",
    "s  = mpf.make_mpf_style(marketcolors=mc)\n",
    "kwargs = dict(type='candle',volume=True,figratio=(11,8),figscale=2)"
   ]
  },
  {
   "cell_type": "code",
   "execution_count": null,
   "metadata": {
    "scrolled": false
   },
   "outputs": [],
   "source": [
    "mpf.plot(data.iloc[::-1],**kwargs, style=s)"
   ]
  },
  {
   "cell_type": "code",
   "execution_count": null,
   "metadata": {},
   "outputs": [],
   "source": [
    "print(meta_data)"
   ]
  },
  {
   "cell_type": "code",
   "execution_count": null,
   "metadata": {},
   "outputs": [],
   "source": [
    "i = 1\n",
    "#while i==1:\n",
    "#    data, meta_data = ts.get_intraday(symbol='MSFT', interval = '1min', outputsize = 'full')\n",
    "#    data.to_excel(\"output.xlsx\")\n",
    "#    time.sleep(60)"
   ]
  },
  {
   "cell_type": "code",
   "execution_count": null,
   "metadata": {},
   "outputs": [],
   "source": [
    "close_data = data['4. close']\n",
    "percentage_change = close_data.pct_change()"
   ]
  },
  {
   "cell_type": "code",
   "execution_count": null,
   "metadata": {},
   "outputs": [],
   "source": [
    "percentage_change.head()"
   ]
  },
  {
   "cell_type": "code",
   "execution_count": null,
   "metadata": {},
   "outputs": [],
   "source": [
    "last_change = percentage_change[-1]"
   ]
  },
  {
   "cell_type": "code",
   "execution_count": null,
   "metadata": {},
   "outputs": [],
   "source": [
    "if abs(last_change) > 0.0004:\n",
    "    print(\"MSFT Alert:\" + str(last_change))"
   ]
  },
  {
   "cell_type": "code",
   "execution_count": null,
   "metadata": {},
   "outputs": [],
   "source": []
  }
 ],
 "metadata": {
  "kernelspec": {
   "display_name": "Python 3",
   "language": "python",
   "name": "python3"
  },
  "language_info": {
   "codemirror_mode": {
    "name": "ipython",
    "version": 3
   },
   "file_extension": ".py",
   "mimetype": "text/x-python",
   "name": "python",
   "nbconvert_exporter": "python",
   "pygments_lexer": "ipython3",
   "version": "3.6.10"
  }
 },
 "nbformat": 4,
 "nbformat_minor": 4
}
