{
 "cells": [
  {
   "cell_type": "code",
   "execution_count": 2,
   "metadata": {},
   "outputs": [],
   "source": [
    "from util import *\n",
    "import os\n",
    "import time\n",
    "from IPython.display import clear_output"
   ]
  },
  {
   "cell_type": "code",
   "execution_count": 13,
   "metadata": {},
   "outputs": [],
   "source": [
    "import easydict # A library to create an argparser-like object\n",
    "args = easydict.EasyDict({ \"key\": \"QOA9MVY36JYUOL3K\", \"ticker\": \"BIGC\", \"style\" : \"candle\", \"interval\" : \"1min\", \"initial_size\" : \"compact\"})"
   ]
  },
  {
   "cell_type": "code",
   "execution_count": 3,
   "metadata": {},
   "outputs": [
    {
     "name": "stderr",
     "output_type": "stream",
     "text": [
      "usage: ipykernel_launcher.py [-h] [-k KEY] [-t TICKER]\n",
      "                             [-s {candle,close_only}]\n",
      "                             [--interval {15min,5min,15min,30min,60min}]\n",
      "                             [--initial_size {compact,full}]\n",
      "ipykernel_launcher.py: error: unrecognized arguments: -f C:\\Users\\come1\\AppData\\Roaming\\jupyter\\runtime\\kernel-c9867561-d100-4799-b401-e5d8a95c5038.json\n"
     ]
    },
    {
     "ename": "SystemExit",
     "evalue": "2",
     "output_type": "error",
     "traceback": [
      "An exception has occurred, use %tb to see the full traceback.\n",
      "\u001b[1;31mSystemExit\u001b[0m\u001b[1;31m:\u001b[0m 2\n"
     ]
    },
    {
     "name": "stderr",
     "output_type": "stream",
     "text": [
      "C:\\Users\\come1\\anaconda3\\envs\\nasdaq\\lib\\site-packages\\IPython\\core\\interactiveshell.py:3351: UserWarning: To exit: use 'exit', 'quit', or Ctrl-D.\n",
      "  warn(\"To exit: use 'exit', 'quit', or Ctrl-D.\", stacklevel=1)\n"
     ]
    }
   ],
   "source": [
    "ts_class = time_series(args)\n",
    "while True:\n",
    "    clear_output(wait=True)\n",
    "    ts_class.update()\n",
    "    ts_class.plot()\n",
    "    time.sleep(30)\n",
    "    if ts_class.now() > ts_class.pm8:\n",
    "        break"
   ]
  },
  {
   "cell_type": "code",
   "execution_count": null,
   "metadata": {},
   "outputs": [],
   "source": []
  }
 ],
 "metadata": {
  "kernelspec": {
   "display_name": "Python 3",
   "language": "python",
   "name": "python3"
  },
  "language_info": {
   "codemirror_mode": {
    "name": "ipython",
    "version": 3
   },
   "file_extension": ".py",
   "mimetype": "text/x-python",
   "name": "python",
   "nbconvert_exporter": "python",
   "pygments_lexer": "ipython3",
   "version": "3.6.10"
  }
 },
 "nbformat": 4,
 "nbformat_minor": 4
}
